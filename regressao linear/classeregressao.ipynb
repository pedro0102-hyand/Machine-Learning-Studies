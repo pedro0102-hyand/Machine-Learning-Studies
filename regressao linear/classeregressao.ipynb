{
  "nbformat": 4,
  "nbformat_minor": 0,
  "metadata": {
    "colab": {
      "provenance": []
    },
    "kernelspec": {
      "name": "python3",
      "display_name": "Python 3"
    },
    "language_info": {
      "name": "python"
    }
  },
  "cells": [
    {
      "cell_type": "code",
      "execution_count": null,
      "metadata": {
        "id": "h-u8qfbuTmGO"
      },
      "outputs": [],
      "source": [
        "import numpy as np\n",
        "from numpy import *"
      ]
    },
    {
      "cell_type": "code",
      "source": [
        "#criacao da classe de regressao linear\n",
        "\n",
        "class RegressaoLinear:\n",
        "    def __init__(self, x, y): #construindo as intancias da classe\n",
        "        self.x = x\n",
        "        self.y = y\n",
        "        #instanciando os metodos da classe\n",
        "        self._coeficiente_correlacao = self._correlacao()\n",
        "        self._inclinacao = self._inclination()\n",
        "        self._interceptacao = self._intercept()\n",
        "\n",
        "    #definindo o método para o cálculo de correlacao\n",
        "    def _correlacao(self):\n",
        "        covariacao = cov(self.x, self.y, bias=True)[0][1]\n",
        "        variancia_x = var(self.x)\n",
        "        variancia_y = var(self.y)\n",
        "        return covariacao / sqrt(variancia_x * variancia_y)\n",
        "\n",
        "    #definindo a inclinacao da reta\n",
        "    #coeficiante angular da reta\n",
        "    def _inclination(self):\n",
        "        std_x = std(self.x)\n",
        "        std_y = std(self.y)\n",
        "        return self._coeficiente_correlacao * (std_y / std_x)\n",
        "\n",
        "    #definindo a interceptacao da reta\n",
        "    #coeficiente linear da reta\n",
        "    def _intercept(self):\n",
        "        media_x = mean(self.x)\n",
        "        media_y = mean(self.y)\n",
        "        return media_y - (self._inclinacao * media_x)\n",
        "\n",
        "    def previsao(self, valor):  #define previsao como um método publico\n",
        "        return self._interceptacao + (self._inclinacao * valor)\n",
        "\n"
      ],
      "metadata": {
        "id": "AZPuC9BCUPgb"
      },
      "execution_count": null,
      "outputs": []
    },
    {
      "cell_type": "code",
      "source": [
        "#definindo dataset\n",
        "x = array((1,2,3,4,5))\n",
        "y = array((2,4,6,8,10))"
      ],
      "metadata": {
        "id": "WFBrvB1NYDeO"
      },
      "execution_count": null,
      "outputs": []
    },
    {
      "cell_type": "code",
      "source": [
        "lr = RegressaoLinear(x, y)\n",
        "previsao = lr.previsao(6)\n",
        "print(previsao)"
      ],
      "metadata": {
        "colab": {
          "base_uri": "https://localhost:8080/"
        },
        "id": "uTh3WVmnYpTW",
        "outputId": "4726a773-4d04-46fa-9fee-b039ad95f458"
      },
      "execution_count": null,
      "outputs": [
        {
          "output_type": "stream",
          "name": "stdout",
          "text": [
            "12.0\n"
          ]
        }
      ]
    }
  ]
}